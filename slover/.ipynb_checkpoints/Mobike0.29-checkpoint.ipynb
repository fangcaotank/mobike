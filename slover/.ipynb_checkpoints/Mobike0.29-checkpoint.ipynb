{
 "cells": [
  {
   "cell_type": "code",
   "execution_count": 30,
   "metadata": {
    "collapsed": true
   },
   "outputs": [],
   "source": [
    "import os,re\n",
    "import gc\n",
    "import time\n",
    "import pickle\n",
    "import random\n",
    "import Geohash as geo\n",
    "import numpy as np\n",
    "import pandas as pd\n",
    "from datetime import datetime,date\n",
    "from collections import Counter\n",
    "from math import atan , pi ,sqrt, acos\n",
    "from xgboost import XGBClassifier \n",
    "import warnings\n",
    "warnings.filterwarnings(\"ignore\")\n",
    "import matplotlib.pylab as plt\n",
    "%matplotlib inline"
   ]
  },
  {
   "cell_type": "code",
   "execution_count": 2,
   "metadata": {
    "collapsed": true
   },
   "outputs": [],
   "source": [
    "global seed"
   ]
  },
  {
   "cell_type": "code",
   "execution_count": 3,
   "metadata": {
    "collapsed": true
   },
   "outputs": [],
   "source": [
    "def get_valdata(seed):\n",
    "    if os.path.exists(cache_path):\n",
    "        pass\n",
    "    else:\n",
    "        os.mkdir(cache_path) \n",
    "    \n",
    "    val_p = cache_path + 'val_%d.hdf'%(seed)\n",
    "    train_p = cache_path + 'train_%d.hdf'%(seed)\n",
    "    if os.path.exists(val_p) & os.path.exists(train_p):\n",
    "        train,val = pd.read_hdf(train_p, 'w'),pd.read_hdf(val_p, 'w')\n",
    "    else:\n",
    "        train = pd.read_csv(train_path)\n",
    "        train[\"starttime\"] = pd.to_datetime(train.starttime)\n",
    "        tr_ontainer = []\n",
    "        for i in [10,11,12,13,14,15,16,18,19,20,21,22,23,24]:#居然没有17号\n",
    "            temp = train[train.starttime.dt.date==date(2017, 5, i)]\n",
    "            temp = temp.sample(frac=0.1,random_state=seed)\n",
    "            tr_ontainer.append(temp)\n",
    "        val = pd.concat(tr_ontainer,axis=0)\n",
    "        train = train[~train.index.isin(val.index)]\n",
    "        val.to_hdf(val_p, 'w', complib='blosc', complevel=5)\n",
    "        train.to_hdf(train_p, 'w', complib='blosc', complevel=5)\n",
    "    return train,val"
   ]
  },
  {
   "cell_type": "code",
   "execution_count": 4,
   "metadata": {
    "collapsed": true
   },
   "outputs": [],
   "source": [
    "#把test分成了4份\n",
    "def split_test():\n",
    "    test = pd.read_csv(test_path)\n",
    "    for i in range(4):\n",
    "        result_path = cache_path + 'test_%d.hdf'%(i)\n",
    "        if os.path.exists(result_path):\n",
    "            pass\n",
    "        else:\n",
    "            ts = test[test.index%4==i]\n",
    "            ts.to_hdf(result_path, 'w', complib='blosc', complevel=5)"
   ]
  },
  {
   "cell_type": "code",
   "execution_count": 5,
   "metadata": {
    "collapsed": true
   },
   "outputs": [],
   "source": [
    "# 获取真实标签\n",
    "def get_label(data):\n",
    "    result_path = cache_path + 'label_%d.pkl'%(seed)\n",
    "    if os.path.exists(result_path):\n",
    "        label = pickle.load(open(result_path, 'rb+'))\n",
    "    else:\n",
    "        _ , val = get_valdata(seed)\n",
    "        label = dict(zip(val['orderid'].values, val['geohashed_end_loc']))\n",
    "        pickle.dump(label, open(result_path, 'wb+'))\n",
    "    data['label'] = data['orderid'].map(label)\n",
    "    data['label'] = (data['label'] == data['geohashed_end_loc']).astype('int')\n",
    "    return data"
   ]
  },
  {
   "cell_type": "markdown",
   "metadata": {},
   "source": [
    "以下部分，为特征构造部门"
   ]
  },
  {
   "cell_type": "code",
   "execution_count": 6,
   "metadata": {
    "collapsed": true
   },
   "outputs": [],
   "source": [
    "#计算方向夹角\n",
    "def get_azimuth(lon1, lat1, lon2, lat2):#lon1,测试点，#lon2基站信息\n",
    "    lat1 = float(lat1);lon1 = float(lon1);lat2 = float(lat2);lon2 = float(lon2)\n",
    "    dlon = lon1 - lon2\n",
    "    dlat = lat1 - lat2\n",
    "    hyp =sqrt(dlon**2+dlat**2)\n",
    "    if hyp == 0:\n",
    "        return 0\n",
    "    else:\n",
    "        Z= dlat/hyp\n",
    "        rad =acos(Z)\n",
    "        deg = 180*rad/pi\n",
    "        if dlon >0:\n",
    "            return deg\n",
    "        elif dlon <0:\n",
    "            return 360-deg\n",
    "        elif dlon ==0 and dlat>0:\n",
    "            return 90\n",
    "        else:\n",
    "            return 180"
   ]
  },
  {
   "cell_type": "code",
   "execution_count": 7,
   "metadata": {
    "collapsed": true
   },
   "outputs": [],
   "source": [
    "# 计算两点之间距离\n",
    "def cal_distance(lat1,lon1,lat2,lon2):\n",
    "    lat1 = float(lat1);lon1 = float(lon1);lat2 = float(lat2);lon2 = float(lon2)\n",
    "    dx = np.abs(lon1 - lon2)  # 经度差\n",
    "    dy = np.abs(lat1 - lat2)  # 维度差\n",
    "    b = (lat1 + lat2) / 2.0\n",
    "    Lx = 6371004.0 * (dx / 57.2958) * np.cos(b / 57.2958)\n",
    "    Ly = 6371004.0 * (dy / 57.2958)\n",
    "    L = (Lx**2 + Ly**2) ** 0.5\n",
    "    return L\n",
    "\n",
    "# 计算两点之间的欧氏距离\n",
    "def get_distance(result):\n",
    "    locs = list(set(result['geohashed_start_loc']) | set(result['geohashed_end_loc']))\n",
    "    if np.nan in locs:\n",
    "        locs.remove(np.nan)\n",
    "    deloc = []\n",
    "    for loc in locs:\n",
    "        deloc.append((geo.decode_exactly(loc)[0],geo.decode_exactly(loc)[1]))\n",
    "    loc_dict = dict(zip(locs,deloc))\n",
    "    geohashed_loc = result[['geohashed_start_loc','geohashed_end_loc']].values\n",
    "    \n",
    "    azimuths = [];diss = [];slons = []; slats= [] ;elons = [];elats = []\n",
    "    \n",
    "    for i in geohashed_loc:\n",
    "        lat1, lon1 = loc_dict[i[0]]\n",
    "        lat2, lon2 = loc_dict[i[1]]\n",
    "        \n",
    "        slat,slon = float(format(geo.decode_exactly(i[0])[0],'.4f')),float(format(geo.decode_exactly(i[0])[1],'.4f'))\n",
    "        elat,elon = float(format(geo.decode_exactly(i[1])[0],'.4f')),float(format(geo.decode_exactly(i[1])[1],'.4f'))\n",
    "                      \n",
    "        dis = cal_distance(lat1, lon1, lat2, lon2)\n",
    "        azimuth = get_azimuth(lat1,lon1,lat2,lon2)\n",
    "              \n",
    "        azimuths.append(azimuth);diss.append(dis);\n",
    "        slons.append(slon);slats.append(slat);elons.append(elon);elats.append(elat)\n",
    "        \n",
    "    result['azimuth'] = azimuths;result['dis'] = diss;\n",
    "    result[\"slats\"] = slats; result[\"slons\"] = slons;result[\"elons\"] = elons;result[\"elats\"] = elats\n",
    "    return result"
   ]
  },
  {
   "cell_type": "code",
   "execution_count": 8,
   "metadata": {
    "collapsed": true
   },
   "outputs": [],
   "source": [
    "#根据方位角，计算关于方位角的各种特征\n",
    "def azimuth_split(result):\n",
    "    cut_points = range(0,360,45)\n",
    "    cut_points = cut_points + [result[\"azimuth\"].max()]\n",
    "    labels = [\"0-45\",\"45-90\",\"90-135\",\"135-180\",\"180-225\",\"225-270\",\"270-315\",\"315_360\"]\n",
    "    result[\"split_azimuth\"] = pd.cut(result[\"azimuth\"], cut_points,labels=labels,include_lowest=True)\n",
    "    \n",
    "    dis_azimuth = result.groupby([\"geohashed_start_loc\",\"split_azimuth\"],as_index=False)[\"dis\"].agg({'azimuth_dis_count':np.size,\n",
    "                                                                                                     'azimuth_dis_max':np.max,\n",
    "                                                                                                     'azimuth_dis_min':np.min,\n",
    "                                                                                                     'azimuth_dis_mean':np.mean,\n",
    "                                                                                                     'azimuth_dis_var':np.var,\n",
    "                                                                                                     'azimuth_dis_median':np.median})\n",
    "    #计算每个方向角度，距离的最大值，最小值，均值等各种数学属性\n",
    "    user_azimuth = result.groupby([\"userid\",\"geohashed_start_loc\"],as_index=False)[\"azimuth\"].agg({'user_azimuth_count':np.size,\n",
    "                                                                                                   'user_azimuth_max':np.max,\n",
    "                                                                                                   'user_azimuth_min':np.min,\n",
    "                                                                                                   'user_azimuth_mean':np.mean,\n",
    "                                                                                                   'user_azimuth_var':np.var,\n",
    "                                                                                                   'user_azimuth_median':np.median})\n",
    "    #计算关于用户的，方向角上的各种最大值，最小值，均值等数学属性\n",
    "    azimuth_time = result.groupby(\"userid\",as_index=False)[\"time\"].agg({'azimuth_time_max':np.max,\n",
    "                                                                        'azimuth_time_min':np.min,\n",
    "                                                                        'azimuth_time_mean':np.mean,\n",
    "                                                                        'azimuth_time_var':np.var,\n",
    "                                                                        'azimuth_time_median':np.median})\n",
    "    \n",
    "    sloc_azimuth = result.groupby([\"geohashed_start_loc\"],as_index=False)[\"azimuth\"].agg({'sloc_azimuth_max':np.max,\n",
    "                                                                                         'sloc_azimuth_min':np.min,\n",
    "                                                                                         'sloc_azimuth_mean':np.mean,\n",
    "                                                                                         'sloc_azimuth_var':np.var,\n",
    "                                                                                         'sloc_azimuth_median':np.median})\n",
    "    \n",
    "    result = pd.merge(result,dis_azimuth,on=[\"geohashed_start_loc\",\"split_azimuth\"],how=\"left\")\n",
    "    result = pd.merge(result,user_azimuth,on=[\"userid\",\"geohashed_start_loc\"],how=\"left\")\n",
    "    result = pd.merge(result,azimuth_time,on=\"userid\",how=\"left\")\n",
    "    result = pd.merge(result,sloc_azimuth,on=\"geohashed_start_loc\",how=\"left\")\n",
    "    result.drop([\"split_azimuth\"],axis=1,inplace=True)   \n",
    "    return result"
   ]
  },
  {
   "cell_type": "code",
   "execution_count": 9,
   "metadata": {
    "collapsed": true
   },
   "outputs": [],
   "source": [
    "#获得用户，出发点 和距离的组合特征\n",
    "def get_hour_dis(result):\n",
    "    hour_dis = result.groupby(\"userid\",as_index=False)[\"dis\"].agg({'user_dis_max':np.max,\n",
    "                                                                   'user_dis_min':np.min,\n",
    "                                                                   'user_dis_mean':np.mean,\n",
    "                                                                   'user_dis_var':np.var,\n",
    "                                                                   'user_dis_median':np.median})\n",
    "    \n",
    "    sloc_dis = result.groupby(\"geohashed_start_loc\",as_index=False)[\"dis\"].agg({'sloc_dis_max':np.max,\n",
    "                                                                                'sloc_dis_min':np.min,\n",
    "                                                                                'sloc_dis_mean':np.mean,\n",
    "                                                                                'sloc_dis_var':np.var,\n",
    "                                                                                'sloc_dis_median':np.median})\n",
    "    result = pd.merge(result,hour_dis,on=\"userid\",how=\"left\")\n",
    "    result = pd.merge(result,sloc_dis,on=\"geohashed_start_loc\",how=\"left\")\n",
    "    return result"
   ]
  },
  {
   "cell_type": "code",
   "execution_count": 10,
   "metadata": {
    "collapsed": true
   },
   "outputs": [],
   "source": [
    "# 获取用户历史行为次数\n",
    "def get_user_count(train,result):\n",
    "    user_count = train.groupby('userid',as_index=False)['geohashed_end_loc'].agg({'user_count':'count'})\n",
    "    result = pd.merge(result,user_count,on=['userid'],how='left')\n",
    "    return result\n",
    "\n",
    "# 获取用户去过某个地点历史行为次数\n",
    "def get_user_eloc_count(train, result):\n",
    "    user_eloc_count = train.groupby(['userid','geohashed_end_loc'],as_index=False)['userid'].agg({'user_eloc_count':'count'})\n",
    "    result = pd.merge(result,user_eloc_count,on=['userid','geohashed_end_loc'],how='left')\n",
    "    return result\n",
    "\n",
    "# 获取用户从某个地点出发的行为次数\n",
    "def get_user_sloc_count(train,result):\n",
    "    user_sloc_count = train.groupby(['userid','geohashed_start_loc'],as_index=False)['userid'].agg({'user_sloc_count':'count'})\n",
    "    user_sloc_count.rename(columns={'geohashed_start_loc':'geohashed_end_loc'},inplace=True)\n",
    "    result = pd.merge(result, user_sloc_count, on=['userid', 'geohashed_end_loc'], how='left')\n",
    "    return result"
   ]
  },
  {
   "cell_type": "code",
   "execution_count": 11,
   "metadata": {
    "collapsed": true
   },
   "outputs": [],
   "source": [
    "# 获取用户从这个路径走过几次\n",
    "def get_user_sloc_eloc_count(train,result):\n",
    "    user_count = train.groupby(['userid','geohashed_start_loc','geohashed_end_loc'],as_index=False)['userid'].agg({'user_sloc_eloc_count':'count'})\n",
    "    result = pd.merge(result,user_count,on=['userid','geohashed_start_loc','geohashed_end_loc'],how='left')\n",
    "    return result\n",
    "\n",
    "# 获取用户从这个路径折返过几次\n",
    "def get_user_eloc_sloc_count(train,result):\n",
    "    user_eloc_sloc_count = train.groupby(['userid','geohashed_start_loc','geohashed_end_loc'],as_index=False)['userid'].agg({'user_eloc_sloc_count':'count'})\n",
    "    user_eloc_sloc_count.rename(columns = {'geohashed_start_loc':'geohashed_end_loc','geohashed_end_loc':'geohashed_start_loc'},inplace=True)\n",
    "    result = pd.merge(result,user_eloc_sloc_count,on=['userid','geohashed_start_loc','geohashed_end_loc'],how='left')\n",
    "    return result"
   ]
  },
  {
   "cell_type": "code",
   "execution_count": 12,
   "metadata": {
    "collapsed": true
   },
   "outputs": [],
   "source": [
    "# 获取目标地点的热度(目的地)\n",
    "def get_eloc_count(train,result):\n",
    "    eloc_count = train.groupby('geohashed_end_loc', as_index=False)['userid'].agg({'eloc_count': 'count'})\n",
    "    result = pd.merge(result, eloc_count, on='geohashed_end_loc', how='left')\n",
    "    return result\n",
    "\n",
    "# 获取目标地点的热度(出发地地)\n",
    "def get_sloc_count(train,result):\n",
    "    sloc_count = train.groupby('geohashed_start_loc', as_index=False)['userid'].agg({'sloc_count': 'count'})\n",
    "    result = pd.merge(result, sloc_count, on='geohashed_start_loc', how='left')\n",
    "    return result"
   ]
  },
  {
   "cell_type": "code",
   "execution_count": 13,
   "metadata": {
    "collapsed": true
   },
   "outputs": [],
   "source": [
    "#获得某个时间段，达到某个地方，或者是从某个时间段出发的信息\n",
    "def hour_loc_count(train,result):\n",
    "    \n",
    "    result['starttime'] = pd.to_datetime(result['starttime'])\n",
    "    train['starttime'] = pd.to_datetime(train['starttime'])\n",
    "    \n",
    "    result['hour'] = result['starttime'].map(lambda x: x.strftime('%H')).astype(int)\n",
    "    result['min'] = result['starttime'].map(lambda x: x.strftime('%M')).astype(int)\n",
    "    result['time'] =  result[[\"hour\"]].values * 60 + result[[\"min\"]].values\n",
    "    \n",
    "    result[\"weekday\"] = result['starttime'].dt.dayofweek.astype(int)\n",
    "    \n",
    "    train['hour'] = train['starttime'].map(lambda x: x.strftime('%H'))\n",
    "                \n",
    "    hour_sloc_count = train.groupby([\"hour\",\"geohashed_start_loc\"],as_index=False)[\"userid\"].agg({'hour_sloc_count':'count'})\n",
    "    #某时，从某个地方出发的次数\n",
    "    hour_eloc_count = train.groupby([\"hour\",\"geohashed_end_loc\"],as_index=False)[\"userid\"].agg({'hour_eloc_count':'count'})\n",
    "    #某时，到达某地的次数\n",
    "    hour_sloc_eloc_count = train.groupby([\"hour\",\"geohashed_start_loc\",\"geohashed_end_loc\"],as_index=False)[\"userid\"].agg({'hour_sloc_eloc_count':'count'})\n",
    "    #某时，某地出发，到达某地的次数\n",
    "    user_hour = train.groupby([\"userid\",\"hour\"],as_index=False)[\"userid\"].agg({'hour_user_count':'count'})\n",
    "    #用户从某个时间出发的次数\n",
    "    user_hour_eloc = train.groupby([\"userid\",\"hour\",\"geohashed_end_loc\"],as_index=False)[\"userid\"].agg({'user_hour_eloc':'count'})\n",
    "    #用户某时到某地的次数\n",
    "    user_hour_sloc = train.groupby([\"userid\",\"hour\",\"geohashed_start_loc\"],as_index=False)[\"userid\"].agg({'user_hour_sloc':'count'})\n",
    "    #用户某时从某地出发的次数\n",
    "    user_hour_sloc_eloc = train.groupby([\"userid\",\"hour\",\"geohashed_start_loc\",\"geohashed_end_loc\"],as_index=False)[\"userid\"].agg({'user_hour_sloc_eloc':'count'})\n",
    "    #用户某时从某地出发到达某地的次数\n",
    "    \n",
    "    result = pd.merge(result, hour_sloc_count, on=[\"hour\",\"geohashed_start_loc\"], how='left')\n",
    "    result = pd.merge(result, hour_eloc_count, on=[\"hour\",\"geohashed_end_loc\"], how='left')\n",
    "    result = pd.merge(result, hour_sloc_eloc_count, on=[\"hour\",\"geohashed_start_loc\",\"geohashed_end_loc\"], how='left')\n",
    "    result = pd.merge(result, user_hour, on=[\"userid\",\"hour\"], how='left')\n",
    "    result = pd.merge(result, user_hour_eloc, on=[\"userid\",\"hour\",\"geohashed_end_loc\"], how='left')\n",
    "    result = pd.merge(result, user_hour_sloc, on=[\"userid\",\"hour\",\"geohashed_start_loc\"], how='left')\n",
    "    result = pd.merge(result, user_hour_sloc_eloc, on=[\"userid\",\"hour\",\"geohashed_start_loc\",\"geohashed_end_loc\"], how='left')\n",
    "    \n",
    "    return result  "
   ]
  },
  {
   "cell_type": "code",
   "execution_count": 14,
   "metadata": {
    "collapsed": true
   },
   "outputs": [],
   "source": [
    "#获得距离和频次的比值特征\n",
    "def dis_by_count(result):\n",
    "    result[\"dis_by_count\"] = result[\"dis\"] / (result[\"user_sloc_eloc_count\"] + 1)**1.1\n",
    "    return result    "
   ]
  },
  {
   "cell_type": "markdown",
   "metadata": {},
   "source": [
    "以下部分，为样本构造部分"
   ]
  },
  {
   "cell_type": "code",
   "execution_count": 15,
   "metadata": {
    "collapsed": true
   },
   "outputs": [],
   "source": [
    "#获得训练集的basic\n",
    "def get_train_basic():\n",
    "    print \"获得训练集样本基础,随机种子为%d\"%(seed)\n",
    "    bs_feat = ['orderid','geohashed_end_loc']\n",
    "    result_path = cache_path + 'get_train_basic_%d.hdf' %(seed)\n",
    "    if os.path.exists(result_path) & flag:\n",
    "        result = pd.read_hdf(result_path, 'w')\n",
    "    else:\n",
    "        train , val = get_valdata(seed)\n",
    "                \n",
    "        user_end_loc = get_user_end_loc(train, val)# 根据用户历史目的地点添加样本\n",
    "        user_start_loc = get_user_start_loc(train, val)# 根据用户历史起始地点添加样本\n",
    "        loc_to_loc = get_loc_to_loc(train, val)# 筛选起始地点去向最多的3个地点\n",
    "        bike_end_loc = get_bike_end_loc(train, val)#车ID中，多次重复去同一个地方的样本\n",
    "        user_go_back = get_user_go_back(train, val)#用户存在往返的样本\n",
    "        user_contine = get_user_contine(train,val)\n",
    "        hour_eloc = get_hour_eloc(train,val)  \n",
    "        \n",
    "        result = pd.concat([user_end_loc[bs_feat],\n",
    "                            user_start_loc[bs_feat],\n",
    "                            loc_to_loc[bs_feat],\n",
    "                            bike_end_loc[bs_feat],\n",
    "                            user_go_back[bs_feat],\n",
    "                            user_contine[bs_feat],\n",
    "                            hour_eloc[bs_feat]]).drop_duplicates()\n",
    "        \n",
    "        val.drop([\"geohashed_end_loc\"],axis=1,inplace=True)\n",
    "        result = pd.merge(result,val,on=\"orderid\",how=\"left\")\n",
    "        result = result[result['geohashed_end_loc'] != result['geohashed_start_loc']]\n",
    "        result = result[(~result['geohashed_end_loc'].isnull()) & (~result['geohashed_start_loc'].isnull())]\n",
    "        result.to_hdf(result_path, 'w', complib='blosc', complevel=5)\n",
    "    return result\n",
    "\n",
    "##获得训练集的basic\n",
    "def get_test_basic(test,i):\n",
    "    print \"获得测试集样本基础\"\n",
    "    bs_feat = ['orderid','geohashed_end_loc']\n",
    "    result_path = cache_path + 'get_test_basic_%d.hdf' %(i)\n",
    "    if os.path.exists(result_path) & flag:\n",
    "        result = pd.read_hdf(result_path, 'w')\n",
    "    else:\n",
    "        train , _ = get_valdata(seed)\n",
    "        \n",
    "        user_end_loc = get_user_end_loc(train, test) # 根据用户历史目的地点添加样本\n",
    "        user_start_loc = get_user_start_loc(train, test)# 根据用户历史起始地点添加样本 \n",
    "        loc_to_loc = get_loc_to_loc(train, test)  # 筛选起始地点去向最多的3个地点\n",
    "        bike_end_loc = get_bike_end_loc(train, test)#车ID中，多次重复去同一个地方的样本\n",
    "        user_go_back = get_user_go_back(train, test)#用户存在往返的样本 \n",
    "        hour_eloc = get_hour_eloc(train,test)\n",
    "        user_contine = get_user_contine(train,test)\n",
    "        # 汇总样本id\n",
    "        result = pd.concat([user_end_loc[bs_feat],\n",
    "                            user_start_loc[bs_feat],\n",
    "                            loc_to_loc[bs_feat],\n",
    "                            bike_end_loc[bs_feat],\n",
    "                            user_go_back[bs_feat],\n",
    "                            user_contine[bs_feat],\n",
    "                            hour_eloc[bs_feat]]).drop_duplicates()\n",
    "        \n",
    "                        \n",
    "        result = pd.merge(result,test,on=\"orderid\",how=\"left\")\n",
    "        result = result[result['geohashed_end_loc'] != result['geohashed_start_loc']]\n",
    "        result = result[(~result['geohashed_end_loc'].isnull()) & (~result['geohashed_start_loc'].isnull())]\n",
    "        \n",
    "        result.to_hdf(result_path, 'w', complib='blosc', complevel=5)\n",
    "    return result\n",
    "\n",
    "# 将用户骑行过目的的地点加入样本\n",
    "def get_user_end_loc(train,sample):\n",
    "    result_path = cache_path + 'user_end_loc_%d_%d.hdf' %(seed,sample.orderid.values[0])\n",
    "    if os.path.exists(result_path) & flag:\n",
    "        result = pd.read_hdf(result_path, 'w')\n",
    "    else:\n",
    "        user_eloc = train[['userid','geohashed_end_loc']].drop_duplicates()\n",
    "        result = pd.merge(sample[['orderid','userid']],user_eloc,on='userid',how='left')\n",
    "        result = result[['orderid', 'geohashed_end_loc']]\n",
    "        result.to_hdf(result_path, 'w', complib='blosc', complevel=5)\n",
    "    return result\n",
    "\n",
    "# 将用户骑行过出发的地点加入样本\n",
    "def get_user_start_loc(train,sample):\n",
    "    result_path = cache_path + 'user_start_loc_%d_%d.hdf' %(seed,sample.orderid.values[0])\n",
    "    if os.path.exists(result_path) & flag:\n",
    "        result = pd.read_hdf(result_path, 'w')\n",
    "    else:\n",
    "        test = pd.read_csv(test_path)\n",
    "        user_sloc = pd.concat([train[['userid', 'geohashed_start_loc']],\n",
    "                               test[['userid', 'geohashed_start_loc']]],\n",
    "                              axis=0).drop_duplicates()\n",
    "        result = pd.merge(sample[['orderid', 'userid']], user_sloc, on='userid', how='left')\n",
    "        result.rename(columns={'geohashed_start_loc':'geohashed_end_loc'},inplace=True)\n",
    "        result = result[['orderid', 'geohashed_end_loc']]\n",
    "        result.to_hdf(result_path, 'w', complib='blosc', complevel=5)\n",
    "    return result\n",
    "\n",
    "# 筛选起始地点去向最多的5个地点\n",
    "def get_loc_to_loc(train,sample):\n",
    "    result_path = cache_path + 'loc_to_loc_%d_%d.hdf' %(seed,sample.orderid.values[0])\n",
    "    if os.path.exists(result_path) & flag:\n",
    "        result = pd.read_hdf(result_path, 'w')\n",
    "    else:\n",
    "        sloc_eloc_count = train.groupby(['geohashed_start_loc', 'geohashed_end_loc'],as_index=False)['geohashed_end_loc'].agg({'sloc_eloc_count':'count'})\n",
    "        sloc_eloc_count.sort_values('sloc_eloc_count',inplace=True)\n",
    "        sloc_eloc_count = sloc_eloc_count.groupby('geohashed_start_loc').tail(5)\n",
    "        \n",
    "        result = pd.merge(sample[['orderid', 'geohashed_start_loc']], sloc_eloc_count, on='geohashed_start_loc', how='left')\n",
    "        result = result[['orderid', 'geohashed_end_loc']]\n",
    "        result.to_hdf(result_path, 'w', complib='blosc', complevel=5)\n",
    "    return result\n",
    "\n",
    "# 将车ID多次重复去一个地方的样本取出\n",
    "def get_bike_end_loc(train,sample):\n",
    "    result_path = cache_path + 'bike_end_loc_%d_%d.hdf' %(seed,sample.orderid.values[0])\n",
    "    if os.path.exists(result_path) & flag:\n",
    "        result = pd.read_hdf(result_path, 'w')\n",
    "    else:\n",
    "        bike_eloc = train.groupby([\"bikeid\",\"geohashed_end_loc\"],as_index=False)[\"geohashed_end_loc\"].agg({\"bike_count\":\"count\"})\n",
    "        bike_eloc = bike_eloc[bike_eloc.bike_count>2][[\"bikeid\",\"geohashed_end_loc\"]]\n",
    "        result = pd.merge(sample[['orderid','bikeid']],bike_eloc,on='bikeid',how='left')\n",
    "        result = result[['orderid', 'geohashed_end_loc']]\n",
    "        result.to_hdf(result_path, 'w', complib='blosc', complevel=5)\n",
    "    return result\n",
    "\n",
    "#将用户往返过的地方，放入样本\n",
    "def get_user_go_back(train,sample):\n",
    "    result_path = cache_path + 'user_go_back_%d_%d.hdf' %(seed,sample.orderid.values[0])\n",
    "    \n",
    "    if os.path.exists(result_path) & flag:\n",
    "        result = pd.read_hdf(result_path, 'w')\n",
    "    else:\n",
    "        user_go_back = pd.merge(train[[\"orderid\",\"userid\",\"geohashed_start_loc\",\"geohashed_end_loc\"]],\n",
    "                                train[[\"orderid\",\"userid\",\"geohashed_start_loc\",\"geohashed_end_loc\"]],\n",
    "                                left_on=[\"userid\",\"geohashed_start_loc\",\"geohashed_end_loc\"],\n",
    "                                right_on=[\"userid\",\"geohashed_end_loc\",\"geohashed_start_loc\"],\n",
    "                                how =\"inner\")\n",
    "        \n",
    "        user_go_back = user_go_back[[\"userid\",\"geohashed_start_loc_x\",\"geohashed_end_loc_x\"]].drop_duplicates()\n",
    "        \n",
    "        result1 = pd.merge(sample[['orderid','userid',\"geohashed_start_loc\"]],\n",
    "                          user_go_back,\n",
    "                          left_on = [\"userid\",\"geohashed_start_loc\"],\n",
    "                          right_on= [\"userid\",\"geohashed_start_loc_x\"],\n",
    "                          how=\"inner\")\n",
    "        result1.rename(columns={'geohashed_end_loc_x':'geohashed_end_loc'},inplace=True)\n",
    "        \n",
    "        result2 = pd.merge(sample[['orderid','userid',\"geohashed_start_loc\"]],\n",
    "                          user_go_back,\n",
    "                          left_on = [\"userid\",\"geohashed_start_loc\"],\n",
    "                          right_on= [\"userid\",\"geohashed_end_loc_x\"],\n",
    "                          how=\"inner\")\n",
    "        result2.rename(columns={'geohashed_start_loc_x':'geohashed_end_loc'},inplace=True)\n",
    "        \n",
    "        result = pd.concat([result1,result2],axis=0)\n",
    "        \n",
    "        result = result[['orderid', 'geohashed_end_loc']].drop_duplicates()\n",
    "        result.to_hdf(result_path, 'w', complib='blosc', complevel=5)\n",
    "    return result\n",
    "\n",
    "#把同一个小时内，去过最多的5个end列入样本中\n",
    "def get_hour_eloc(train,sample):\n",
    "    result_path = cache_path + 'get_hour_eloc_%d_%d.hdf' %(seed,sample.orderid.values[0])\n",
    "    \n",
    "    if os.path.exists(result_path) & flag:\n",
    "        result = pd.read_hdf(result_path, 'w')\n",
    "    else:\n",
    "        train[\"starttime\"] = pd.to_datetime(train[\"starttime\"])\n",
    "        sample[\"starttime\"] = pd.to_datetime(sample[\"starttime\"])\n",
    "        \n",
    "        train[\"hour\"] = train['starttime'].map(lambda x: x.strftime('%H'))\n",
    "        sample[\"hour\"] = sample['starttime'].map(lambda x: x.strftime('%H'))\n",
    "        \n",
    "        hour_eloc_count = train.groupby(['hour', 'geohashed_end_loc'],as_index=False)['geohashed_end_loc'].agg({'hour_eloc_count':'count'})\n",
    "        hour_eloc_count.sort_values('hour_eloc_count',inplace=True)\n",
    "        hour_eloc_count = hour_eloc_count.groupby('hour').tail(5)\n",
    "        \n",
    "        result = pd.merge(sample[['orderid', 'hour']], hour_eloc_count, on='hour', how='left')\n",
    "        result = result[['orderid', 'geohashed_end_loc']]\n",
    "        result.to_hdf(result_path, 'w', complib='blosc', complevel=5)\n",
    "    return result\n",
    "\n",
    "\n",
    "#获得部分用户连续骑行获得的特征\n",
    "def get_user_contine(train,sample):\n",
    "    result_path = cache_path + 'get_user_contine_%d_%d.hdf' %(seed,sample.orderid.values[0])\n",
    "    \n",
    "    if os.path.exists(result_path) & flag:\n",
    "        result = pd.read_hdf(result_path, 'w')\n",
    "    else:\n",
    "        data = pd.concat([train[[\"userid\",\"starttime\",\"geohashed_start_loc\"]],\n",
    "                          sample[[\"userid\",\"starttime\",\"geohashed_start_loc\"]],],axis=0)\n",
    "        \n",
    "        data[\"starttime\"] = pd.to_datetime(data[\"starttime\"])\n",
    "        data.sort_values([\"userid\",\"starttime\"],inplace=True)\n",
    "        data = pd.merge(data[[\"userid\",\"starttime\",\"geohashed_start_loc\"]],\n",
    "                 data[[\"userid\",\"starttime\",\"geohashed_start_loc\"]],on=[\"userid\"])\n",
    "\n",
    "        data[\"time\"] = data.starttime_y - data.starttime_x\n",
    "        data[\"time\"] = data[\"time\"].astype(\"timedelta64[s]\")\n",
    "        data = data[(data.time>0)&(data.time<600)&(data.geohashed_start_loc_x !=data.geohashed_start_loc_y)]\n",
    "        data.rename(columns={'geohashed_start_loc_y':'geohashed_end_loc'},inplace=True)\n",
    "        \n",
    "        result = pd.merge(sample[['orderid', 'userid']], data, on='userid', how='left')\n",
    "        result = result[['orderid', 'geohashed_end_loc']]\n",
    "        result.to_hdf(result_path, 'w', complib='blosc', complevel=5)\n",
    "               \n",
    "    return result    "
   ]
  },
  {
   "cell_type": "code",
   "execution_count": 16,
   "metadata": {
    "collapsed": true
   },
   "outputs": [],
   "source": [
    "def make_tr_data():\n",
    "    print \"获得训练集数据,随机种子为%d\"%(seed)\n",
    "    result_path = cache_path + 'make_tr_data_%d.hdf'%(seed)\n",
    "    if os.path.exists(result_path) & flag:\n",
    "        result = pd.read_hdf(result_path, 'w')\n",
    "   \n",
    "    else:\n",
    "        train , _ = get_valdata(seed)\n",
    "        \n",
    "        result = get_train_basic()\n",
    "        result = get_distance(result)                                           # 获取起始点和最终地点的欧式距离\n",
    "        #result = result[result.dis<25000]\n",
    "        \n",
    "        result = hour_loc_count(train,result)                                   # 处理时间相关特征\n",
    "        result = get_user_count(train,result)                                   # 获取用户历史行为次数\n",
    "        result = get_user_eloc_count(train, result)                             # 获取用户去过这个地点几次\n",
    "        result = get_user_sloc_count(train, result)                             # 获取用户从目的地点出发过几次\n",
    "        result = get_user_sloc_eloc_count(train, result)                        # 获取用户从这个路径走过几次\n",
    "        result = get_user_eloc_sloc_count(train, result)                        # 获取用户从这个路径折返过几次\n",
    "        result = get_eloc_count(train, result)                                  # 获取目的地点的热度(目的地)\n",
    "        result = get_sloc_count(train, result)                                 \n",
    "        result = dis_by_count(result)\n",
    "        #result = azimuth_split(result)\n",
    "        #result = get_hour_dis(result)\n",
    "        result = get_label(result)\n",
    "        result = result.fillna(0)       \n",
    "        \n",
    "        result.to_hdf(result_path, 'w', complib='blosc', complevel=5)\n",
    "    return result"
   ]
  },
  {
   "cell_type": "code",
   "execution_count": 17,
   "metadata": {
    "collapsed": true
   },
   "outputs": [],
   "source": [
    "def make_ts_data(test,i):\n",
    "    print \"获得随机种子为:%d 的测试集数据\"%(seed)\n",
    "    result_path = cache_path + 'make_ts_data_%d.hdf'%(i)\n",
    "    if os.path.exists(result_path) & flag:\n",
    "        result = pd.read_hdf(result_path, 'w')\n",
    "    else:\n",
    "        train , _ = get_valdata(seed)\n",
    "        \n",
    "        result = get_test_basic(test,i)\n",
    "        result = get_distance(result)                                           # 获取起始点和最终地点的欧式距离\n",
    "        #result = result[result.dis<25000]\n",
    "        \n",
    "        result = hour_loc_count(train,result)                                   # 处理时间相关特征\n",
    "        result = get_user_count(train,result)                                   # 获取用户历史行为次数\n",
    "        result = get_user_eloc_count(train, result)                             # 获取用户去过这个地点几次\n",
    "        result = get_user_sloc_count(train, result)                             # 获取用户从目的地点出发过几次\n",
    "        result = get_user_sloc_eloc_count(train, result)                        # 获取用户从这个路径走过几次\n",
    "        result = get_user_eloc_sloc_count(train, result)                        # 获取用户从这个路径折返过几次\n",
    "        result = get_eloc_count(train, result)                                  # 获取目的地点的热度(目的地)\n",
    "        result = get_sloc_count(train, result)\n",
    "        \n",
    "        result = dis_by_count(result)\n",
    "        #result = azimuth_split(result)\n",
    "        #result = get_hour_dis(result)\n",
    "        result = result.fillna(0)\n",
    "        \n",
    "        \n",
    "        result.to_hdf(result_path, 'w', complib='blosc', complevel=5)\n",
    "    return result"
   ]
  },
  {
   "cell_type": "code",
   "execution_count": 18,
   "metadata": {
    "collapsed": true,
    "scrolled": true
   },
   "outputs": [],
   "source": [
    "#训练样本 \n",
    "def train_model():\n",
    "    \n",
    "    train_feat = make_tr_data()\n",
    "    \n",
    "    feat = [\"orderid\",\"geohashed_end_loc\",\"geohashed_start_loc\",\"userid\",\"bikeid\",\"starttime\",\"biketype\"];\n",
    "    label = [\"label\"]\n",
    "    predictors = [_ for _ in train_feat.columns if _ not in feat+label]\n",
    "       \n",
    "    print \"开始训练\"\n",
    "    result_path = cache_path + 'clf_%d.pkl'%(seed)\n",
    "    if os.path.exists(result_path):\n",
    "        clf = pickle.load(open(result_path, 'rb+'))\n",
    "    else:\n",
    "        split_test()\n",
    "        clf = XGBClassifier(objective ='binary:logistic',\n",
    "                                        learning_rate = 0.1,\n",
    "                                        silent=0,\n",
    "                                        n_estimators= 500,\n",
    "                                        max_depth = 10,\n",
    "                                        min_child_weight = 2,\n",
    "                                        gamma = 30,\n",
    "                                        reg_alpha = 10,\n",
    "                                        reg_lambda = 50,                        \n",
    "                                        subsample = 0.886, \n",
    "                                        colsample_bytree = 0.886,\n",
    "                                        scale_pos_weight = 10,\n",
    "                                        nthread =4)\n",
    "\n",
    "        X_train = train_feat[predictors]\n",
    "        y_train = train_feat[label]\n",
    "\n",
    "        clf.fit(X_train, y_train,\n",
    "                eval_set=[(X_train,y_train)], \n",
    "                eval_metric= \"auc\",\n",
    "                early_stopping_rounds=50)\n",
    "        pickle.dump(clf, open(result_path, 'wb+'))\n",
    "    print \"获得随机种子为:%d 的训练模型\"%(seed)   \n",
    "    return clf,predictors"
   ]
  },
  {
   "cell_type": "code",
   "execution_count": 19,
   "metadata": {
    "collapsed": true
   },
   "outputs": [],
   "source": [
    "# 分组排序\n",
    "def rank(data, feat1, feat2):\n",
    "    data.sort_values([feat1,feat2],inplace=True,ascending=False)\n",
    "    data['rank'] = range(data.shape[0])\n",
    "    min_rank = data.groupby(feat1,as_index=False)['rank'].agg({'min_rank':'min'})\n",
    "    data = pd.merge(data,min_rank,on=feat1,how='left')\n",
    "    data['rank'] = data['rank'] - data['min_rank']\n",
    "    del data['min_rank']\n",
    "    return data"
   ]
  },
  {
   "cell_type": "code",
   "execution_count": 20,
   "metadata": {
    "collapsed": true
   },
   "outputs": [],
   "source": [
    "# 对结果进行整理\n",
    "def reshape(pred):\n",
    "    print \"组合结果\"\n",
    "    result = pred[[\"orderid\",\"geohashed_end_loc\",\"pred\"]]\n",
    "    result = rank(result,'orderid','pred')\n",
    "    result = result[result['rank']<3][['orderid','geohashed_end_loc','rank']]\n",
    "    result = result.set_index(['orderid','rank']).unstack()\n",
    "    result.reset_index(inplace=True)\n",
    "    result['orderid'] = result['orderid'].astype('int')\n",
    "    result.columns = ['orderid', 0, 1, 2]\n",
    "    return result"
   ]
  },
  {
   "cell_type": "code",
   "execution_count": 21,
   "metadata": {
    "collapsed": true,
    "scrolled": true
   },
   "outputs": [],
   "source": [
    "def get_sub():\n",
    "    clf,predictors = train_model()\n",
    "    results = []\n",
    "    for i in range(4):\n",
    "        print \"进行第%d个测试集预测\"%(i)\n",
    "        result_path = cache_path + 'test_%d.hdf'%(i)\n",
    "        \n",
    "        test = pd.read_hdf(result_path, 'w')\n",
    "        test_feat = make_ts_data(test,i)\n",
    "        \n",
    "        result = test_feat[[\"orderid\",\"geohashed_end_loc\"]]\n",
    "        result['pred_%d'%(seed)] = clf.predict_proba(test_feat[predictors])[:,1]\n",
    "        \n",
    "        results.append(result)\n",
    "        gc.collect()\n",
    "    result = pd.concat(results,axis=0)\n",
    "    \n",
    "    import matplotlib.pylab as plt\n",
    "    plt.figure(figsize=(20,4))\n",
    "    feat_imp = pd.Series(clf.booster().get_fscore()).sort_values(ascending=False)\n",
    "    feat_imp.plot(kind='bar', title='Feature Importances')\n",
    "    plt.ylabel('Feature Importance Score')\n",
    "    plt.show()\n",
    "    return result"
   ]
  },
  {
   "cell_type": "code",
   "execution_count": 22,
   "metadata": {
    "scrolled": false
   },
   "outputs": [
    {
     "name": "stdout",
     "output_type": "stream",
     "text": [
      "获得训练集数据,随机种子为201701\n"
     ]
    },
    {
     "ename": "KeyboardInterrupt",
     "evalue": "",
     "output_type": "error",
     "traceback": [
      "\u001b[1;31m---------------------------------------------------------------------------\u001b[0m",
      "\u001b[1;31mKeyboardInterrupt\u001b[0m                         Traceback (most recent call last)",
      "\u001b[1;32m<ipython-input-22-12149e2d6082>\u001b[0m in \u001b[0;36m<module>\u001b[1;34m()\u001b[0m\n\u001b[0;32m      8\u001b[0m         \u001b[0mseed\u001b[0m \u001b[1;33m=\u001b[0m \u001b[0m_\u001b[0m\u001b[1;33m\u001b[0m\u001b[0m\n\u001b[0;32m      9\u001b[0m         \u001b[0mcache_path\u001b[0m \u001b[1;33m=\u001b[0m \u001b[1;34m'../cache_%d/'\u001b[0m\u001b[1;33m%\u001b[0m\u001b[1;33m(\u001b[0m\u001b[0mseed\u001b[0m\u001b[1;33m)\u001b[0m\u001b[1;33m\u001b[0m\u001b[0m\n\u001b[1;32m---> 10\u001b[1;33m         \u001b[0mdfs\u001b[0m\u001b[1;33m.\u001b[0m\u001b[0mappend\u001b[0m\u001b[1;33m(\u001b[0m\u001b[0mget_sub\u001b[0m\u001b[1;33m(\u001b[0m\u001b[1;33m)\u001b[0m\u001b[1;33m)\u001b[0m\u001b[1;33m\u001b[0m\u001b[0m\n\u001b[0m\u001b[0;32m     11\u001b[0m         \u001b[0mgc\u001b[0m\u001b[1;33m.\u001b[0m\u001b[0mcollect\u001b[0m\u001b[1;33m(\u001b[0m\u001b[1;33m)\u001b[0m\u001b[1;33m\u001b[0m\u001b[0m\n\u001b[0;32m     12\u001b[0m     \u001b[0mdf\u001b[0m \u001b[1;33m=\u001b[0m \u001b[0mpd\u001b[0m\u001b[1;33m.\u001b[0m\u001b[0mconcat\u001b[0m\u001b[1;33m(\u001b[0m\u001b[0mdfs\u001b[0m\u001b[1;33m,\u001b[0m\u001b[0maxis\u001b[0m\u001b[1;33m=\u001b[0m\u001b[1;36m1\u001b[0m\u001b[1;33m)\u001b[0m\u001b[1;33m\u001b[0m\u001b[0m\n",
      "\u001b[1;32m<ipython-input-21-a424dbc96692>\u001b[0m in \u001b[0;36mget_sub\u001b[1;34m()\u001b[0m\n\u001b[0;32m      1\u001b[0m \u001b[1;32mdef\u001b[0m \u001b[0mget_sub\u001b[0m\u001b[1;33m(\u001b[0m\u001b[1;33m)\u001b[0m\u001b[1;33m:\u001b[0m\u001b[1;33m\u001b[0m\u001b[0m\n\u001b[1;32m----> 2\u001b[1;33m     \u001b[0mclf\u001b[0m\u001b[1;33m,\u001b[0m\u001b[0mpredictors\u001b[0m \u001b[1;33m=\u001b[0m \u001b[0mtrain_model\u001b[0m\u001b[1;33m(\u001b[0m\u001b[1;33m)\u001b[0m\u001b[1;33m\u001b[0m\u001b[0m\n\u001b[0m\u001b[0;32m      3\u001b[0m     \u001b[0mresults\u001b[0m \u001b[1;33m=\u001b[0m \u001b[1;33m[\u001b[0m\u001b[1;33m]\u001b[0m\u001b[1;33m\u001b[0m\u001b[0m\n\u001b[0;32m      4\u001b[0m     \u001b[1;32mfor\u001b[0m \u001b[0mi\u001b[0m \u001b[1;32min\u001b[0m \u001b[0mrange\u001b[0m\u001b[1;33m(\u001b[0m\u001b[1;36m4\u001b[0m\u001b[1;33m)\u001b[0m\u001b[1;33m:\u001b[0m\u001b[1;33m\u001b[0m\u001b[0m\n\u001b[0;32m      5\u001b[0m         \u001b[1;32mprint\u001b[0m \u001b[1;34m\"进行第%d个测试集预测\"\u001b[0m\u001b[1;33m%\u001b[0m\u001b[1;33m(\u001b[0m\u001b[0mi\u001b[0m\u001b[1;33m)\u001b[0m\u001b[1;33m\u001b[0m\u001b[0m\n",
      "\u001b[1;32m<ipython-input-18-9b8edfef8621>\u001b[0m in \u001b[0;36mtrain_model\u001b[1;34m()\u001b[0m\n\u001b[0;32m      2\u001b[0m \u001b[1;32mdef\u001b[0m \u001b[0mtrain_model\u001b[0m\u001b[1;33m(\u001b[0m\u001b[1;33m)\u001b[0m\u001b[1;33m:\u001b[0m\u001b[1;33m\u001b[0m\u001b[0m\n\u001b[0;32m      3\u001b[0m \u001b[1;33m\u001b[0m\u001b[0m\n\u001b[1;32m----> 4\u001b[1;33m     \u001b[0mtrain_feat\u001b[0m \u001b[1;33m=\u001b[0m \u001b[0mmake_tr_data\u001b[0m\u001b[1;33m(\u001b[0m\u001b[1;33m)\u001b[0m\u001b[1;33m\u001b[0m\u001b[0m\n\u001b[0m\u001b[0;32m      5\u001b[0m \u001b[1;33m\u001b[0m\u001b[0m\n\u001b[0;32m      6\u001b[0m     \u001b[0mfeat\u001b[0m \u001b[1;33m=\u001b[0m \u001b[1;33m[\u001b[0m\u001b[1;34m\"orderid\"\u001b[0m\u001b[1;33m,\u001b[0m\u001b[1;34m\"geohashed_end_loc\"\u001b[0m\u001b[1;33m,\u001b[0m\u001b[1;34m\"geohashed_start_loc\"\u001b[0m\u001b[1;33m,\u001b[0m\u001b[1;34m\"userid\"\u001b[0m\u001b[1;33m,\u001b[0m\u001b[1;34m\"bikeid\"\u001b[0m\u001b[1;33m,\u001b[0m\u001b[1;34m\"starttime\"\u001b[0m\u001b[1;33m,\u001b[0m\u001b[1;34m\"biketype\"\u001b[0m\u001b[1;33m]\u001b[0m\u001b[1;33m;\u001b[0m\u001b[1;33m\u001b[0m\u001b[0m\n",
      "\u001b[1;32m<ipython-input-16-c966e04c7858>\u001b[0m in \u001b[0;36mmake_tr_data\u001b[1;34m()\u001b[0m\n\u001b[0;32m      3\u001b[0m     \u001b[0mresult_path\u001b[0m \u001b[1;33m=\u001b[0m \u001b[0mcache_path\u001b[0m \u001b[1;33m+\u001b[0m \u001b[1;34m'make_tr_data_%d.hdf'\u001b[0m\u001b[1;33m%\u001b[0m\u001b[1;33m(\u001b[0m\u001b[0mseed\u001b[0m\u001b[1;33m)\u001b[0m\u001b[1;33m\u001b[0m\u001b[0m\n\u001b[0;32m      4\u001b[0m     \u001b[1;32mif\u001b[0m \u001b[0mos\u001b[0m\u001b[1;33m.\u001b[0m\u001b[0mpath\u001b[0m\u001b[1;33m.\u001b[0m\u001b[0mexists\u001b[0m\u001b[1;33m(\u001b[0m\u001b[0mresult_path\u001b[0m\u001b[1;33m)\u001b[0m \u001b[1;33m&\u001b[0m \u001b[0mflag\u001b[0m\u001b[1;33m:\u001b[0m\u001b[1;33m\u001b[0m\u001b[0m\n\u001b[1;32m----> 5\u001b[1;33m         \u001b[0mresult\u001b[0m \u001b[1;33m=\u001b[0m \u001b[0mpd\u001b[0m\u001b[1;33m.\u001b[0m\u001b[0mread_hdf\u001b[0m\u001b[1;33m(\u001b[0m\u001b[0mresult_path\u001b[0m\u001b[1;33m,\u001b[0m \u001b[1;34m'w'\u001b[0m\u001b[1;33m)\u001b[0m\u001b[1;33m\u001b[0m\u001b[0m\n\u001b[0m\u001b[0;32m      6\u001b[0m \u001b[1;33m\u001b[0m\u001b[0m\n\u001b[0;32m      7\u001b[0m     \u001b[1;32melse\u001b[0m\u001b[1;33m:\u001b[0m\u001b[1;33m\u001b[0m\u001b[0m\n",
      "\u001b[1;32mC:\\Anaconda2\\lib\\site-packages\\pandas\\io\\pytables.pyc\u001b[0m in \u001b[0;36mread_hdf\u001b[1;34m(path_or_buf, key, **kwargs)\u001b[0m\n\u001b[0;32m    356\u001b[0m                                      'contains multiple datasets.')\n\u001b[0;32m    357\u001b[0m             \u001b[0mkey\u001b[0m \u001b[1;33m=\u001b[0m \u001b[0mcandidate_only_group\u001b[0m\u001b[1;33m.\u001b[0m\u001b[0m_v_pathname\u001b[0m\u001b[1;33m\u001b[0m\u001b[0m\n\u001b[1;32m--> 358\u001b[1;33m         \u001b[1;32mreturn\u001b[0m \u001b[0mstore\u001b[0m\u001b[1;33m.\u001b[0m\u001b[0mselect\u001b[0m\u001b[1;33m(\u001b[0m\u001b[0mkey\u001b[0m\u001b[1;33m,\u001b[0m \u001b[0mauto_close\u001b[0m\u001b[1;33m=\u001b[0m\u001b[0mauto_close\u001b[0m\u001b[1;33m,\u001b[0m \u001b[1;33m**\u001b[0m\u001b[0mkwargs\u001b[0m\u001b[1;33m)\u001b[0m\u001b[1;33m\u001b[0m\u001b[0m\n\u001b[0m\u001b[0;32m    359\u001b[0m     \u001b[1;32mexcept\u001b[0m\u001b[1;33m:\u001b[0m\u001b[1;33m\u001b[0m\u001b[0m\n\u001b[0;32m    360\u001b[0m         \u001b[1;31m# if there is an error, close the store\u001b[0m\u001b[1;33m\u001b[0m\u001b[1;33m\u001b[0m\u001b[0m\n",
      "\u001b[1;32mC:\\Anaconda2\\lib\\site-packages\\pandas\\io\\pytables.pyc\u001b[0m in \u001b[0;36mselect\u001b[1;34m(self, key, where, start, stop, columns, iterator, chunksize, auto_close, **kwargs)\u001b[0m\n\u001b[0;32m    720\u001b[0m                            chunksize=chunksize, auto_close=auto_close)\n\u001b[0;32m    721\u001b[0m \u001b[1;33m\u001b[0m\u001b[0m\n\u001b[1;32m--> 722\u001b[1;33m         \u001b[1;32mreturn\u001b[0m \u001b[0mit\u001b[0m\u001b[1;33m.\u001b[0m\u001b[0mget_result\u001b[0m\u001b[1;33m(\u001b[0m\u001b[1;33m)\u001b[0m\u001b[1;33m\u001b[0m\u001b[0m\n\u001b[0m\u001b[0;32m    723\u001b[0m \u001b[1;33m\u001b[0m\u001b[0m\n\u001b[0;32m    724\u001b[0m     def select_as_coordinates(\n",
      "\u001b[1;32mC:\\Anaconda2\\lib\\site-packages\\pandas\\io\\pytables.pyc\u001b[0m in \u001b[0;36mget_result\u001b[1;34m(self, coordinates)\u001b[0m\n\u001b[0;32m   1426\u001b[0m \u001b[1;33m\u001b[0m\u001b[0m\n\u001b[0;32m   1427\u001b[0m         \u001b[1;31m# directly return the result\u001b[0m\u001b[1;33m\u001b[0m\u001b[1;33m\u001b[0m\u001b[0m\n\u001b[1;32m-> 1428\u001b[1;33m         \u001b[0mresults\u001b[0m \u001b[1;33m=\u001b[0m \u001b[0mself\u001b[0m\u001b[1;33m.\u001b[0m\u001b[0mfunc\u001b[0m\u001b[1;33m(\u001b[0m\u001b[0mself\u001b[0m\u001b[1;33m.\u001b[0m\u001b[0mstart\u001b[0m\u001b[1;33m,\u001b[0m \u001b[0mself\u001b[0m\u001b[1;33m.\u001b[0m\u001b[0mstop\u001b[0m\u001b[1;33m,\u001b[0m \u001b[0mwhere\u001b[0m\u001b[1;33m)\u001b[0m\u001b[1;33m\u001b[0m\u001b[0m\n\u001b[0m\u001b[0;32m   1429\u001b[0m         \u001b[0mself\u001b[0m\u001b[1;33m.\u001b[0m\u001b[0mclose\u001b[0m\u001b[1;33m(\u001b[0m\u001b[1;33m)\u001b[0m\u001b[1;33m\u001b[0m\u001b[0m\n\u001b[0;32m   1430\u001b[0m         \u001b[1;32mreturn\u001b[0m \u001b[0mresults\u001b[0m\u001b[1;33m\u001b[0m\u001b[0m\n",
      "\u001b[1;32mC:\\Anaconda2\\lib\\site-packages\\pandas\\io\\pytables.pyc\u001b[0m in \u001b[0;36mfunc\u001b[1;34m(_start, _stop, _where)\u001b[0m\n\u001b[0;32m    713\u001b[0m             return s.read(start=_start, stop=_stop,\n\u001b[0;32m    714\u001b[0m                           \u001b[0mwhere\u001b[0m\u001b[1;33m=\u001b[0m\u001b[0m_where\u001b[0m\u001b[1;33m,\u001b[0m\u001b[1;33m\u001b[0m\u001b[0m\n\u001b[1;32m--> 715\u001b[1;33m                           columns=columns, **kwargs)\n\u001b[0m\u001b[0;32m    716\u001b[0m \u001b[1;33m\u001b[0m\u001b[0m\n\u001b[0;32m    717\u001b[0m         \u001b[1;31m# create the iterator\u001b[0m\u001b[1;33m\u001b[0m\u001b[1;33m\u001b[0m\u001b[0m\n",
      "\u001b[1;32mC:\\Anaconda2\\lib\\site-packages\\pandas\\io\\pytables.pyc\u001b[0m in \u001b[0;36mread\u001b[1;34m(self, start, stop, **kwargs)\u001b[0m\n\u001b[0;32m   2864\u001b[0m             \u001b[0mblk_items\u001b[0m \u001b[1;33m=\u001b[0m \u001b[0mself\u001b[0m\u001b[1;33m.\u001b[0m\u001b[0mread_index\u001b[0m\u001b[1;33m(\u001b[0m\u001b[1;34m'block%d_items'\u001b[0m \u001b[1;33m%\u001b[0m \u001b[0mi\u001b[0m\u001b[1;33m)\u001b[0m\u001b[1;33m\u001b[0m\u001b[0m\n\u001b[0;32m   2865\u001b[0m             values = self.read_array('block%d_values' % i,\n\u001b[1;32m-> 2866\u001b[1;33m                                      start=_start, stop=_stop)\n\u001b[0m\u001b[0;32m   2867\u001b[0m             blk = make_block(values,\n\u001b[0;32m   2868\u001b[0m                              placement=items.get_indexer(blk_items))\n",
      "\u001b[1;32mC:\\Anaconda2\\lib\\site-packages\\pandas\\io\\pytables.pyc\u001b[0m in \u001b[0;36mread_array\u001b[1;34m(self, key, start, stop)\u001b[0m\n\u001b[0;32m   2413\u001b[0m         \u001b[1;32mimport\u001b[0m \u001b[0mtables\u001b[0m\u001b[1;33m\u001b[0m\u001b[0m\n\u001b[0;32m   2414\u001b[0m         \u001b[0mnode\u001b[0m \u001b[1;33m=\u001b[0m \u001b[0mgetattr\u001b[0m\u001b[1;33m(\u001b[0m\u001b[0mself\u001b[0m\u001b[1;33m.\u001b[0m\u001b[0mgroup\u001b[0m\u001b[1;33m,\u001b[0m \u001b[0mkey\u001b[0m\u001b[1;33m)\u001b[0m\u001b[1;33m\u001b[0m\u001b[0m\n\u001b[1;32m-> 2415\u001b[1;33m         \u001b[0mdata\u001b[0m \u001b[1;33m=\u001b[0m \u001b[0mnode\u001b[0m\u001b[1;33m[\u001b[0m\u001b[0mstart\u001b[0m\u001b[1;33m:\u001b[0m\u001b[0mstop\u001b[0m\u001b[1;33m]\u001b[0m\u001b[1;33m\u001b[0m\u001b[0m\n\u001b[0m\u001b[0;32m   2416\u001b[0m         \u001b[0mattrs\u001b[0m \u001b[1;33m=\u001b[0m \u001b[0mnode\u001b[0m\u001b[1;33m.\u001b[0m\u001b[0m_v_attrs\u001b[0m\u001b[1;33m\u001b[0m\u001b[0m\n\u001b[0;32m   2417\u001b[0m \u001b[1;33m\u001b[0m\u001b[0m\n",
      "\u001b[1;32mC:\\Anaconda2\\lib\\site-packages\\tables\\array.pyc\u001b[0m in \u001b[0;36m__getitem__\u001b[1;34m(self, key)\u001b[0m\n\u001b[0;32m    657\u001b[0m             \u001b[1;31m# First, try with a regular selection\u001b[0m\u001b[1;33m\u001b[0m\u001b[1;33m\u001b[0m\u001b[0m\n\u001b[0;32m    658\u001b[0m             \u001b[0mstartl\u001b[0m\u001b[1;33m,\u001b[0m \u001b[0mstopl\u001b[0m\u001b[1;33m,\u001b[0m \u001b[0mstepl\u001b[0m\u001b[1;33m,\u001b[0m \u001b[0mshape\u001b[0m \u001b[1;33m=\u001b[0m \u001b[0mself\u001b[0m\u001b[1;33m.\u001b[0m\u001b[0m_interpret_indexing\u001b[0m\u001b[1;33m(\u001b[0m\u001b[0mkey\u001b[0m\u001b[1;33m)\u001b[0m\u001b[1;33m\u001b[0m\u001b[0m\n\u001b[1;32m--> 659\u001b[1;33m             \u001b[0marr\u001b[0m \u001b[1;33m=\u001b[0m \u001b[0mself\u001b[0m\u001b[1;33m.\u001b[0m\u001b[0m_read_slice\u001b[0m\u001b[1;33m(\u001b[0m\u001b[0mstartl\u001b[0m\u001b[1;33m,\u001b[0m \u001b[0mstopl\u001b[0m\u001b[1;33m,\u001b[0m \u001b[0mstepl\u001b[0m\u001b[1;33m,\u001b[0m \u001b[0mshape\u001b[0m\u001b[1;33m)\u001b[0m\u001b[1;33m\u001b[0m\u001b[0m\n\u001b[0m\u001b[0;32m    660\u001b[0m         \u001b[1;32mexcept\u001b[0m \u001b[0mTypeError\u001b[0m\u001b[1;33m:\u001b[0m\u001b[1;33m\u001b[0m\u001b[0m\n\u001b[0;32m    661\u001b[0m             \u001b[1;31m# Then, try with a point-wise selection\u001b[0m\u001b[1;33m\u001b[0m\u001b[1;33m\u001b[0m\u001b[0m\n",
      "\u001b[1;32mC:\\Anaconda2\\lib\\site-packages\\tables\\array.pyc\u001b[0m in \u001b[0;36m_read_slice\u001b[1;34m(self, startl, stopl, stepl, shape)\u001b[0m\n\u001b[0;32m    763\u001b[0m         \u001b[1;32mif\u001b[0m \u001b[1;36m0\u001b[0m \u001b[1;32mnot\u001b[0m \u001b[1;32min\u001b[0m \u001b[0mshape\u001b[0m\u001b[1;33m:\u001b[0m\u001b[1;33m\u001b[0m\u001b[0m\n\u001b[0;32m    764\u001b[0m             \u001b[1;31m# Arrays that have non-zero dimensionality\u001b[0m\u001b[1;33m\u001b[0m\u001b[1;33m\u001b[0m\u001b[0m\n\u001b[1;32m--> 765\u001b[1;33m             \u001b[0mself\u001b[0m\u001b[1;33m.\u001b[0m\u001b[0m_g_read_slice\u001b[0m\u001b[1;33m(\u001b[0m\u001b[0mstartl\u001b[0m\u001b[1;33m,\u001b[0m \u001b[0mstopl\u001b[0m\u001b[1;33m,\u001b[0m \u001b[0mstepl\u001b[0m\u001b[1;33m,\u001b[0m \u001b[0mnparr\u001b[0m\u001b[1;33m)\u001b[0m\u001b[1;33m\u001b[0m\u001b[0m\n\u001b[0m\u001b[0;32m    766\u001b[0m         \u001b[1;31m# For zero-shaped arrays, return the scalar\u001b[0m\u001b[1;33m\u001b[0m\u001b[1;33m\u001b[0m\u001b[0m\n\u001b[0;32m    767\u001b[0m         \u001b[1;32mif\u001b[0m \u001b[0mnparr\u001b[0m\u001b[1;33m.\u001b[0m\u001b[0mshape\u001b[0m \u001b[1;33m==\u001b[0m \u001b[1;33m(\u001b[0m\u001b[1;33m)\u001b[0m\u001b[1;33m:\u001b[0m\u001b[1;33m\u001b[0m\u001b[0m\n",
      "\u001b[1;31mKeyboardInterrupt\u001b[0m: "
     ]
    }
   ],
   "source": [
    "if __name__ == '__main__':\n",
    "    train_path = '../data/train.csv'\n",
    "    test_path = '../data/test.csv'\n",
    "    flag = True\n",
    "    dfs = []\n",
    "    #选择10个种子，进行10次训练\n",
    "    for _ in range(201701,201702):#设置了10个种子\n",
    "        seed = _\n",
    "        cache_path = '../cache_%d/'%(seed)\n",
    "        dfs.append(get_sub())\n",
    "        gc.collect()\n",
    "    df = pd.concat(dfs,axis=1)\n",
    "    pre_list = filter(lambda x: bool(re.findall(\"pred\",x)),list(df.columns))\n",
    "    \n",
    "    result = df.ix[:,:2]\n",
    "    result[\"pred\"] = df[pre_list].mean(axis=1)\n",
    "                \n",
    "    result = reshape(result)\n",
    "    print \"测试集合并完成\"\n",
    "    test = pd.read_csv(test_path)[['orderid']]\n",
    "    result = pd.merge(test,result,on='orderid',how='left')\n",
    "    result.fillna('0',inplace=True)\n",
    "    result.to_csv('../sub/result.csv',index=False,header=False)          "
   ]
  },
  {
   "cell_type": "code",
   "execution_count": 23,
   "metadata": {},
   "outputs": [
    {
     "name": "stdout",
     "output_type": "stream",
     "text": [
      "获得训练集数据,随机种子为201701\n",
      "开始训练\n",
      "获得随机种子为:201701 的训练模型\n"
     ]
    }
   ],
   "source": [
    "clf,predictors = train_model()"
   ]
  },
  {
   "cell_type": "code",
   "execution_count": 24,
   "metadata": {},
   "outputs": [
    {
     "data": {
      "image/png": "[encoded data removed]",
      "text/plain": [
       "<matplotlib.figure.Figure at 0x1ffd04a8>"
      ]
     },
     "metadata": {},
     "output_type": "display_data"
    }
   ],
   "source": [
    "import matplotlib.pylab as plt\n",
    "plt.figure(figsize=(20,4))\n",
    "feat_imp = pd.Series(clf.booster().get_fscore()).sort_values(ascending=False)\n",
    "feat_imp.plot(kind='bar', title='Feature Importances')\n",
    "plt.ylabel('Feature Importance Score')\n",
    "plt.show()   "
   ]
  },
  {
   "cell_type": "code",
   "execution_count": 25,
   "metadata": {},
   "outputs": [
    {
     "name": "stdout",
     "output_type": "stream",
     "text": [
      "获得训练集数据,随机种子为201701\n"
     ]
    }
   ],
   "source": [
    "train_feat = make_tr_data()"
   ]
  },
  {
   "cell_type": "code",
   "execution_count": 27,
   "metadata": {},
   "outputs": [],
   "source": [
    "data = train_feat[train_feat.label==1]"
   ]
  },
  {
   "cell_type": "code",
   "execution_count": 47,
   "metadata": {},
   "outputs": [
    {
     "data": {
      "text/plain": [
       "Index([u'orderid', u'geohashed_end_loc', u'userid', u'bikeid', u'biketype',\n",
       "       u'starttime', u'geohashed_start_loc', u'hour', u'azimuth', u'dis',\n",
       "       u'slats', u'slons', u'elons', u'elats', u'min', u'time', u'weekday',\n",
       "       u'hour_sloc_count', u'hour_eloc_count', u'hour_sloc_eloc_count',\n",
       "       u'hour_user_count', u'user_hour_eloc', u'user_hour_sloc',\n",
       "       u'user_hour_sloc_eloc', u'user_count', u'user_eloc_count',\n",
       "       u'user_sloc_count', u'user_sloc_eloc_count', u'user_eloc_sloc_count',\n",
       "       u'eloc_count', u'sloc_count', u'dis_by_count', u'azimuth_dis_min',\n",
       "       u'azimuth_dis_var', u'azimuth_dis_median', u'azimuth_dis_max',\n",
       "       u'azimuth_dis_count', u'azimuth_dis_mean', u'user_azimuth_median',\n",
       "       u'user_azimuth_max', u'user_azimuth_count', u'user_azimuth_var',\n",
       "       u'user_azimuth_min', u'user_azimuth_mean', u'azimuth_time_min',\n",
       "       u'azimuth_time_median', u'azimuth_time_mean', u'azimuth_time_var',\n",
       "       u'azimuth_time_max', u'sloc_azimuth_median', u'sloc_azimuth_min',\n",
       "       u'sloc_azimuth_var', u'sloc_azimuth_max', u'sloc_azimuth_mean',\n",
       "       u'user_dis_min', u'user_dis_mean', u'user_dis_median', u'user_dis_var',\n",
       "       u'user_dis_max', u'sloc_dis_median', u'sloc_dis_min', u'sloc_dis_var',\n",
       "       u'sloc_dis_max', u'sloc_dis_mean', u'label'],\n",
       "      dtype='object')"
      ]
     },
     "execution_count": 47,
     "metadata": {},
     "output_type": "execute_result"
    }
   ],
   "source": [
    "data.columns"
   ]
  },
  {
   "cell_type": "code",
   "execution_count": 45,
   "metadata": {},
   "outputs": [
    {
     "data": {
      "text/plain": [
       "<matplotlib.axes._subplots.AxesSubplot at 0xe49d358>"
      ]
     },
     "execution_count": 45,
     "metadata": {},
     "output_type": "execute_result"
    },
    {
     "data": {
      "image/png": "[encoded data removed]",
      "text/plain": [
       "<matplotlib.figure.Figure at 0xe4eb358>"
      ]
     },
     "metadata": {},
     "output_type": "display_data"
    }
   ],
   "source": [
    "plt.figure(figsize=(20,4))\n",
    "data.azimuth.plot(kind=\"hist\")"
   ]
  },
  {
   "cell_type": "code",
   "execution_count": 43,
   "metadata": {},
   "outputs": [
    {
     "data": {
      "text/plain": [
       "7.1250163489018075"
      ]
     },
     "execution_count": 43,
     "metadata": {},
     "output_type": "execute_result"
    }
   ],
   "source": [
    "data.azimuth.min()"
   ]
  },
  {
   "cell_type": "code",
   "execution_count": 48,
   "metadata": {},
   "outputs": [
    {
     "data": {
      "text/plain": [
       "dis                     1432\n",
       "azimuth                  975\n",
       "user_eloc_count          841\n",
       "eloc_count               813\n",
       "user_count               606\n",
       "user_sloc_count          515\n",
       "user_dis_median          463\n",
       "time                     450\n",
       "user_dis_mean            318\n",
       "user_azimuth_median      279\n",
       "sloc_count               267\n",
       "user_azimuth_count       263\n",
       "dis_by_count             253\n",
       "user_dis_var             240\n",
       "user_azimuth_var         231\n",
       "azimuth_dis_median       209\n",
       "azimuth_dis_min          192\n",
       "user_dis_min             190\n",
       "sloc_dis_median          176\n",
       "elons                    170\n",
       "azimuth_dis_var          169\n",
       "elats                    165\n",
       "weekday                  161\n",
       "azimuth_time_var         148\n",
       "user_azimuth_mean        148\n",
       "user_dis_max             145\n",
       "azimuth_dis_count        136\n",
       "azimuth_time_min         133\n",
       "azimuth_dis_mean         133\n",
       "user_azimuth_min         130\n",
       "user_sloc_eloc_count     125\n",
       "sloc_dis_mean            112\n",
       "azimuth_dis_max          111\n",
       "sloc_azimuth_var         111\n",
       "azimuth_time_max         103\n",
       "sloc_dis_min             102\n",
       "sloc_azimuth_mean         89\n",
       "azimuth_time_median       86\n",
       "sloc_dis_var              86\n",
       "slons                     86\n",
       "sloc_dis_max              84\n",
       "sloc_azimuth_median       84\n",
       "azimuth_time_mean         83\n",
       "slats                     78\n",
       "user_azimuth_max          77\n",
       "sloc_azimuth_min          75\n",
       "user_eloc_sloc_count      73\n",
       "sloc_azimuth_max          62\n",
       "hour                      49\n",
       "min                       45\n",
       "dtype: int64"
      ]
     },
     "execution_count": 48,
     "metadata": {},
     "output_type": "execute_result"
    }
   ],
   "source": [
    "pd.Series(clf.booster().get_fscore()).sort_values(ascending=False)"
   ]
  },
  {
   "cell_type": "code",
   "execution_count": null,
   "metadata": {
    "collapsed": true
   },
   "outputs": [],
   "source": []
  }
 ],
 "metadata": {
  "kernelspec": {
   "display_name": "Python 2",
   "language": "python",
   "name": "python2"
  },
  "language_info": {
   "codemirror_mode": {
    "name": "ipython",
    "version": 2
   },
   "file_extension": ".py",
   "mimetype": "text/x-python",
   "name": "python",
   "nbconvert_exporter": "python",
   "pygments_lexer": "ipython2",
   "version": "2.7.13"
  }
 },
 "nbformat": 4,
 "nbformat_minor": 2
}
